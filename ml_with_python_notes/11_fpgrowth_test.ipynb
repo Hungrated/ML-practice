{
 "cells": [
  {
   "cell_type": "markdown",
   "metadata": {},
   "source": [
    "# 关联分析的优化：FP-growth算法\n",
    "\n",
    "### 1 概述\n",
    "\n",
    "FP-growth是一种高效发现频繁集的方法。FP代表频繁模式（Frequent Pattern）。\n",
    "\n",
    "FP-growth算法只需要对数据库进行两次扫描，而Apriori算法对于每个潜在的频繁项集都会扫描数据集判定给定模式是否频繁，因此FP-growth算法的速度要比Apriori算法快。\n",
    "\n",
    "它发现频繁项集的基本过程如下：\n",
    "1. 构建FP树\n",
    "2. 从FP树中挖掘频繁项集\n",
    "\n",
    "* 优点：一般要快于Apriori。\n",
    "* 缺点：实现比较困难，在某些数据集上性能会下降。\n",
    "* 适用数据类型：标称型数据。\n",
    "\n",
    "FP-growth算法首先构建FP树，然后利用它来挖掘频繁项集。为构建FP树，需要对原始数据集扫描两遍。第一遍对所有元素项的出现次数进行计数。由Apriori原理，如果某元素是不频繁的，那么包含该元素的超集也是不频繁的，所以就不需要考虑这些超集。数据库的第一遍扫描用来统计出现的频率，而第二遍扫描中只考虑那些频繁元素。"
   ]
  },
  {
   "cell_type": "markdown",
   "metadata": {},
   "source": [
    "### 2 FP树的构建\n",
    "\n",
    "1. 收集数据：使用任意方法。\n",
    "2. 准备数据：由于存储的是集合，所以需要离散数据。如果要处理连续数据，需要将它们量化为离散值。\n",
    "3. 分析数据：使用任意方法。\n",
    "4. 训练算法：构建一个FP树，并对树进行挖掘。\n",
    "5. 测试算法：没有测试过程。\n",
    "6. 使用算法：可用于识别经常出现的元素项，从而用于制定决策、推荐元素或进行预测等应用中。"
   ]
  },
  {
   "cell_type": "code",
   "execution_count": 1,
   "metadata": {},
   "outputs": [],
   "source": [
    "class treeNode:\n",
    "    def __init__(self, nameValue, numOccur, parentNode):\n",
    "        self.name = nameValue\n",
    "        self.count = numOccur\n",
    "        self.nodeLink = None\n",
    "        self.parent = parentNode      #needs to be updated\n",
    "        self.children = {} \n",
    "    \n",
    "    def inc(self, numOccur):\n",
    "        self.count += numOccur\n",
    "        \n",
    "    def disp(self, ind=1):\n",
    "        print('  '*ind, self.name, ' ', self.count)\n",
    "        for child in self.children.values():\n",
    "            child.disp(ind+1)"
   ]
  },
  {
   "cell_type": "code",
   "execution_count": 2,
   "metadata": {},
   "outputs": [],
   "source": [
    "rootNode = treeNode('pyramid', 9, None)"
   ]
  },
  {
   "cell_type": "code",
   "execution_count": 3,
   "metadata": {},
   "outputs": [],
   "source": [
    "rootNode.children['eye'] = treeNode('eye', 13, None)"
   ]
  },
  {
   "cell_type": "code",
   "execution_count": 4,
   "metadata": {},
   "outputs": [
    {
     "name": "stdout",
     "output_type": "stream",
     "text": [
      "   pyramid   9\n",
      "     eye   13\n"
     ]
    }
   ],
   "source": [
    "rootNode.disp()"
   ]
  },
  {
   "cell_type": "code",
   "execution_count": 5,
   "metadata": {},
   "outputs": [],
   "source": [
    "def createTree(dataSet, minSup=1): #create FP-tree from dataset but don't mine\n",
    "    headerTable = {}\n",
    "    #go over dataSet twice\n",
    "    for trans in dataSet:#first pass counts frequency of occurance\n",
    "        for item in trans:\n",
    "            headerTable[item] = headerTable.get(item, 0) + dataSet[trans]\n",
    "    \n",
    "    # 移除不满足最小支持度的元素项\n",
    "    for k in list(headerTable.keys()):\n",
    "        if headerTable[k] < minSup: \n",
    "            del(headerTable[k])\n",
    "    freqItemSet = set(headerTable.keys())\n",
    "    #print 'freqItemSet: ',freqItemSet\n",
    "    \n",
    "    # 如果没有元素项满足要求则退出\n",
    "    if len(freqItemSet) == 0: return None, None\n",
    "    for k in headerTable:\n",
    "        headerTable[k] = [headerTable[k], None] #reformat headerTable to use Node link \n",
    "    #print 'headerTable: ',headerTable\n",
    "    retTree = treeNode('Null Set', 1, None) #create tree\n",
    "    for tranSet, count in dataSet.items():  #go through dataset 2nd time\n",
    "        localD = {}\n",
    "        \n",
    "        # 根据全局频率对每个事务中的元素进行排序\n",
    "        for item in tranSet:\n",
    "            if item in freqItemSet:\n",
    "                localD[item] = headerTable[item][0]\n",
    "        if len(localD) > 0:\n",
    "            orderedItems = [v[0] for v in sorted(localD.items(), key=lambda p: p[1], reverse=True)]\n",
    "            \n",
    "            # 使用排序后的频率项集对树进行填充\n",
    "            updateTree(orderedItems, retTree, headerTable, count)#populate tree with ordered freq itemset\n",
    "    return retTree, headerTable #return tree and header table\n",
    "\n",
    "def updateTree(items, inTree, headerTable, count):\n",
    "    if items[0] in inTree.children:#check if orderedItems[0] in retTree.children\n",
    "        inTree.children[items[0]].inc(count) #incrament count\n",
    "    else:   #add items[0] to inTree.children\n",
    "        inTree.children[items[0]] = treeNode(items[0], count, inTree)\n",
    "        if headerTable[items[0]][1] == None: #update header table \n",
    "            headerTable[items[0]][1] = inTree.children[items[0]]\n",
    "        else:\n",
    "            updateHeader(headerTable[items[0]][1], inTree.children[items[0]])\n",
    "    if len(items) > 1:\n",
    "        # 对剩下的元素项迭代调用updateTree()\n",
    "        updateTree(items[1::], inTree.children[items[0]], headerTable, count)\n",
    "        \n",
    "def updateHeader(nodeToTest, targetNode):   #this version does not use recursion\n",
    "    while (nodeToTest.nodeLink != None):    #Do not use recursion to traverse a linked list!\n",
    "        nodeToTest = nodeToTest.nodeLink\n",
    "    nodeToTest.nodeLink = targetNode"
   ]
  },
  {
   "cell_type": "code",
   "execution_count": 6,
   "metadata": {},
   "outputs": [],
   "source": [
    "def loadSimpDat():\n",
    "    simpDat = [['r', 'z', 'h', 'j', 'p'],\n",
    "               ['z', 'y', 'x', 'w', 'v', 'u', 't', 's'],\n",
    "               ['z'],\n",
    "               ['r', 'x', 'n', 'o', 's'],\n",
    "               ['y', 'r', 'x', 'z', 'q', 't', 'p'],\n",
    "               ['y', 'z', 'x', 'e', 'q', 's', 't', 'm']]\n",
    "    return simpDat\n",
    "\n",
    "def createInitSet(dataSet):\n",
    "    retDict = {}\n",
    "    for trans in dataSet:\n",
    "        retDict[frozenset(trans)] = 1\n",
    "    return retDict"
   ]
  },
  {
   "cell_type": "code",
   "execution_count": 7,
   "metadata": {},
   "outputs": [
    {
     "data": {
      "text/plain": [
       "[['r', 'z', 'h', 'j', 'p'],\n",
       " ['z', 'y', 'x', 'w', 'v', 'u', 't', 's'],\n",
       " ['z'],\n",
       " ['r', 'x', 'n', 'o', 's'],\n",
       " ['y', 'r', 'x', 'z', 'q', 't', 'p'],\n",
       " ['y', 'z', 'x', 'e', 'q', 's', 't', 'm']]"
      ]
     },
     "execution_count": 7,
     "metadata": {},
     "output_type": "execute_result"
    }
   ],
   "source": [
    "simpDat = loadSimpDat()\n",
    "simpDat"
   ]
  },
  {
   "cell_type": "code",
   "execution_count": 8,
   "metadata": {},
   "outputs": [
    {
     "data": {
      "text/plain": [
       "{frozenset({'h', 'j', 'p', 'r', 'z'}): 1,\n",
       " frozenset({'s', 't', 'u', 'v', 'w', 'x', 'y', 'z'}): 1,\n",
       " frozenset({'z'}): 1,\n",
       " frozenset({'n', 'o', 'r', 's', 'x'}): 1,\n",
       " frozenset({'p', 'q', 'r', 't', 'x', 'y', 'z'}): 1,\n",
       " frozenset({'e', 'm', 'q', 's', 't', 'x', 'y', 'z'}): 1}"
      ]
     },
     "execution_count": 8,
     "metadata": {},
     "output_type": "execute_result"
    }
   ],
   "source": [
    "initSet = createInitSet(simpDat)\n",
    "initSet"
   ]
  },
  {
   "cell_type": "code",
   "execution_count": 9,
   "metadata": {},
   "outputs": [
    {
     "name": "stdout",
     "output_type": "stream",
     "text": [
      "   Null Set   1\n",
      "     z   5\n",
      "       r   1\n",
      "       x   3\n",
      "         s   2\n",
      "           y   2\n",
      "             t   2\n",
      "         y   1\n",
      "           t   1\n",
      "             r   1\n",
      "     x   1\n",
      "       s   1\n",
      "         r   1\n"
     ]
    }
   ],
   "source": [
    "myFPtree, myHeaderTab = createTree(initSet, 3)\n",
    "myFPtree.disp()"
   ]
  },
  {
   "cell_type": "markdown",
   "metadata": {},
   "source": [
    "### 3 从一棵FP 树中挖掘频繁项集\n",
    "\n",
    "从FP树中抽取频繁项集的三个基本步骤如下：\n",
    "\n",
    "1. 从FP树中获得条件模式基；\n",
    "2. 利用条件模式基，构建一个条件FP树；\n",
    "3. 迭代重复步骤1步骤2，直到树包含一个元素项为止。\n",
    "\n",
    "接下来重点关注第1步，即寻找条件模式基的过程。之后，为每一个条件模式基创建对应的\n",
    "条件FP树。最后需要构造少许代码来封装上述两个函数，并从FP树中获得频繁项集。"
   ]
  },
  {
   "cell_type": "code",
   "execution_count": 10,
   "metadata": {},
   "outputs": [],
   "source": [
    "def ascendTree(leafNode, prefixPath): #ascends from leaf node to root\n",
    "    if leafNode.parent != None:\n",
    "        prefixPath.append(leafNode.name)\n",
    "        ascendTree(leafNode.parent, prefixPath)\n",
    "    \n",
    "def findPrefixPath(basePat, treeNode): #treeNode comes from header table\n",
    "    condPats = {}\n",
    "    while treeNode != None:\n",
    "        prefixPath = []\n",
    "        ascendTree(treeNode, prefixPath)\n",
    "        if len(prefixPath) > 1: \n",
    "            condPats[frozenset(prefixPath[1:])] = treeNode.count\n",
    "        treeNode = treeNode.nodeLink\n",
    "    return condPats"
   ]
  },
  {
   "cell_type": "code",
   "execution_count": 11,
   "metadata": {},
   "outputs": [
    {
     "data": {
      "text/plain": [
       "{frozenset({'z'}): 3}"
      ]
     },
     "execution_count": 11,
     "metadata": {},
     "output_type": "execute_result"
    }
   ],
   "source": [
    "findPrefixPath('x', myHeaderTab['x'][1])"
   ]
  },
  {
   "cell_type": "code",
   "execution_count": 12,
   "metadata": {},
   "outputs": [],
   "source": [
    "def mineTree(inTree, headerTable, minSup, preFix, freqItemList):\n",
    "    bigL = [v[0] for v in sorted(headerTable.items(), key=lambda p: p[1][0])]#(sort header table)\n",
    "    for basePat in bigL:  #start from bottom of header table\n",
    "        newFreqSet = preFix.copy()\n",
    "        newFreqSet.add(basePat)\n",
    "        #print 'finalFrequent Item: ',newFreqSet    #append to set\n",
    "        freqItemList.append(newFreqSet)\n",
    "        condPattBases = findPrefixPath(basePat, headerTable[basePat][1])\n",
    "        #print 'condPattBases :',basePat, condPattBases\n",
    "        #2. construct cond FP-tree from cond. pattern base\n",
    "        myCondTree, myHead = createTree(condPattBases, minSup)\n",
    "        #print 'head from conditional tree: ', myHead\n",
    "        if myHead != None: #3. mine cond. FP-tree\n",
    "            print('conditional tree for: ',newFreqSet)\n",
    "            myCondTree.disp(1)\n",
    "            mineTree(myCondTree, myHead, minSup, newFreqSet, freqItemList)"
   ]
  },
  {
   "cell_type": "code",
   "execution_count": 13,
   "metadata": {},
   "outputs": [
    {
     "name": "stdout",
     "output_type": "stream",
     "text": [
      "conditional tree for:  {'s'}\n",
      "   Null Set   1\n",
      "     x   3\n",
      "conditional tree for:  {'y'}\n",
      "   Null Set   1\n",
      "     z   3\n",
      "       x   3\n",
      "conditional tree for:  {'y', 'x'}\n",
      "   Null Set   1\n",
      "     z   3\n",
      "conditional tree for:  {'t'}\n",
      "   Null Set   1\n",
      "     y   3\n",
      "       x   3\n",
      "         z   3\n",
      "conditional tree for:  {'t', 'x'}\n",
      "   Null Set   1\n",
      "     y   3\n",
      "conditional tree for:  {'t', 'z'}\n",
      "   Null Set   1\n",
      "     y   3\n",
      "       x   3\n",
      "conditional tree for:  {'t', 'z', 'x'}\n",
      "   Null Set   1\n",
      "     y   3\n",
      "conditional tree for:  {'x'}\n",
      "   Null Set   1\n",
      "     z   3\n"
     ]
    }
   ],
   "source": [
    "freqItems = []\n",
    "mineTree(myFPtree, myHeaderTab, 3, set([]), freqItems)"
   ]
  },
  {
   "cell_type": "code",
   "execution_count": 14,
   "metadata": {},
   "outputs": [
    {
     "data": {
      "text/plain": [
       "[{'r'},\n",
       " {'s'},\n",
       " {'s', 'x'},\n",
       " {'y'},\n",
       " {'y', 'z'},\n",
       " {'x', 'y'},\n",
       " {'x', 'y', 'z'},\n",
       " {'t'},\n",
       " {'t', 'y'},\n",
       " {'t', 'x'},\n",
       " {'t', 'x', 'y'},\n",
       " {'t', 'z'},\n",
       " {'t', 'y', 'z'},\n",
       " {'t', 'x', 'z'},\n",
       " {'t', 'x', 'y', 'z'},\n",
       " {'x'},\n",
       " {'x', 'z'},\n",
       " {'z'}]"
      ]
     },
     "execution_count": 14,
     "metadata": {},
     "output_type": "execute_result"
    }
   ],
   "source": [
    "freqItems"
   ]
  },
  {
   "cell_type": "code",
   "execution_count": null,
   "metadata": {},
   "outputs": [],
   "source": []
  }
 ],
 "metadata": {
  "kernelspec": {
   "display_name": "Python 3",
   "language": "python",
   "name": "python3"
  },
  "language_info": {
   "codemirror_mode": {
    "name": "ipython",
    "version": 3
   },
   "file_extension": ".py",
   "mimetype": "text/x-python",
   "name": "python",
   "nbconvert_exporter": "python",
   "pygments_lexer": "ipython3",
   "version": "3.6.5"
  }
 },
 "nbformat": 4,
 "nbformat_minor": 2
}
