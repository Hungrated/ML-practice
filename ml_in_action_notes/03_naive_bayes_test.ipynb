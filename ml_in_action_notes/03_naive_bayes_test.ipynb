{
 "cells": [
  {
   "cell_type": "markdown",
   "metadata": {},
   "source": [
    "# 基于贝叶斯决策理论的分类方法\n",
    "\n",
    "### 1 概述\n",
    "\n",
    "> 我们称之为“朴素”，是因为整个形式化过程只做最原始、最简单的假设。\n",
    "\n",
    "* 优点：在数据较少的情况下仍然有效，可以处理多类别问题\n",
    "* 缺点：对于输入数据的准备方式较为敏感\n",
    "* 适用数据类型：标称型数据"
   ]
  },
  {
   "cell_type": "markdown",
   "metadata": {},
   "source": [
    "### 2  使用朴素贝叶斯进行文档分类\n",
    "\n",
    "1. 收集数据：可以使用任何方法。本章使用RSS源。\n",
    "2. 准备数据：需要数值型或者布尔型数据。\n",
    "3. 分析数据：有大量特征时，绘制特征作用不大，此时使用直方图效果更好。\n",
    "4. 训练算法：计算不同的独立特征的条件概率。\n",
    "5. 测试算法：计算错误率。\n",
    "6. 使用算法：一个常见的朴素贝叶斯应用是文档分类。可以在任意的分类场景中使用朴素贝叶斯分类器，不一定非要是文本。"
   ]
  },
  {
   "cell_type": "code",
   "execution_count": 1,
   "metadata": {},
   "outputs": [],
   "source": [
    "from numpy import *\n",
    "\n",
    "# 将词表转换为向量\n",
    "def loadDataSet():\n",
    "    postingList=[['my', 'dog', 'has', 'flea', 'problems', 'help', 'please'],\n",
    "                 ['maybe', 'not', 'take', 'him', 'to', 'dog', 'park', 'stupid'],\n",
    "                 ['my', 'dalmation', 'is', 'so', 'cute', 'I', 'love', 'him'],\n",
    "                 ['stop', 'posting', 'stupid', 'worthless', 'garbage'],\n",
    "                 ['mr', 'licks', 'ate', 'my', 'steak', 'how', 'to', 'stop', 'him'],\n",
    "                 ['quit', 'buying', 'worthless', 'dog', 'food', 'stupid']]\n",
    "    classVec = [0,1,0,1,0,1]    #1 is abusive, 0 not\n",
    "    return postingList,classVec\n",
    "\n",
    "def createVocabList(dataSet):\n",
    "    vocabSet = set([])  #create empty set\n",
    "    for document in dataSet:\n",
    "        vocabSet = vocabSet | set(document) #union of the two sets\n",
    "    return list(vocabSet)\n",
    "\n",
    "def setOfWords2Vec(vocabList, inputSet):\n",
    "    returnVec = [0]*len(vocabList)\n",
    "    for word in inputSet:\n",
    "        if word in vocabList:\n",
    "            returnVec[vocabList.index(word)] = 1\n",
    "        else:\n",
    "            print(\"the word: {} is not in my Vocabulary!\".format(word))\n",
    "    return returnVec"
   ]
  },
  {
   "cell_type": "code",
   "execution_count": 2,
   "metadata": {},
   "outputs": [
    {
     "data": {
      "text/plain": [
       "['flea',\n",
       " 'dalmation',\n",
       " 'is',\n",
       " 'stop',\n",
       " 'buying',\n",
       " 'garbage',\n",
       " 'take',\n",
       " 'help',\n",
       " 'him',\n",
       " 'quit',\n",
       " 'food',\n",
       " 'to',\n",
       " 'problems',\n",
       " 'I',\n",
       " 'maybe',\n",
       " 'has',\n",
       " 'posting',\n",
       " 'my',\n",
       " 'ate',\n",
       " 'please',\n",
       " 'licks',\n",
       " 'how',\n",
       " 'park',\n",
       " 'not',\n",
       " 'dog',\n",
       " 'love',\n",
       " 'so',\n",
       " 'steak',\n",
       " 'cute',\n",
       " 'mr',\n",
       " 'worthless',\n",
       " 'stupid']"
      ]
     },
     "execution_count": 2,
     "metadata": {},
     "output_type": "execute_result"
    }
   ],
   "source": [
    "listOPosts, listClasses = loadDataSet()\n",
    "myVocabList = createVocabList(listOPosts)\n",
    "myVocabList"
   ]
  },
  {
   "cell_type": "code",
   "execution_count": 3,
   "metadata": {},
   "outputs": [
    {
     "data": {
      "text/plain": [
       "[1,\n",
       " 0,\n",
       " 0,\n",
       " 0,\n",
       " 0,\n",
       " 0,\n",
       " 0,\n",
       " 1,\n",
       " 0,\n",
       " 0,\n",
       " 0,\n",
       " 0,\n",
       " 1,\n",
       " 0,\n",
       " 0,\n",
       " 1,\n",
       " 0,\n",
       " 1,\n",
       " 0,\n",
       " 1,\n",
       " 0,\n",
       " 0,\n",
       " 0,\n",
       " 0,\n",
       " 1,\n",
       " 0,\n",
       " 0,\n",
       " 0,\n",
       " 0,\n",
       " 0,\n",
       " 0,\n",
       " 0]"
      ]
     },
     "execution_count": 3,
     "metadata": {},
     "output_type": "execute_result"
    }
   ],
   "source": [
    "setOfWords2Vec(myVocabList, listOPosts[0])"
   ]
  },
  {
   "cell_type": "markdown",
   "metadata": {},
   "source": [
    "下面讨论概率计算问题。由贝叶斯公式：\n",
    "\n",
    "<center>$p(c_i|\\boldsymbol{w})=\\frac{p(\\boldsymbol{w}|c_i)p(c_i)}{p(\\boldsymbol{w})}$</center>\n",
    "\n",
    "其中$\\boldsymbol{w}$是一个向量，由多数值组成。\n",
    "\n",
    "所以计算概率的伪代码如下：\n",
    "\n",
    "```\n",
    "计算每个类别中的文档数目\n",
    "对每篇训练文档：\n",
    "    对每个类别：\n",
    "        如果词条出现在文档中 → 增加该词条的计数值\n",
    "        增加所有词条的计数值\n",
    "    对每个类别：\n",
    "        对每个词条：\n",
    "            将该词条的数目除以总词条数目得到条件概率\n",
    "    返回每个类别的条件概率\n",
    "```"
   ]
  },
  {
   "cell_type": "code",
   "execution_count": 4,
   "metadata": {},
   "outputs": [],
   "source": [
    "# 朴素贝叶斯分类器训练函数\n",
    "def trainNB0(trainMatrix,trainCategory):\n",
    "    numTrainDocs = len(trainMatrix)\n",
    "    numWords = len(trainMatrix[0])\n",
    "    pAbusive = sum(trainCategory)/float(numTrainDocs)\n",
    "    \n",
    "    # 初始化概率\n",
    "    p0Num = ones(numWords)\n",
    "    p1Num = ones(numWords)      #change to ones() \n",
    "    p0Denom = 2.0\n",
    "    p1Denom = 2.0               #change to 2.0\n",
    "    for i in range(numTrainDocs):\n",
    "        # 向量相加\n",
    "        if trainCategory[i] == 1:\n",
    "            p1Num += trainMatrix[i]\n",
    "            p1Denom += sum(trainMatrix[i])\n",
    "        else:\n",
    "            p0Num += trainMatrix[i]\n",
    "            p0Denom += sum(trainMatrix[i])\n",
    "    \n",
    "    # 对每个元素做除法\n",
    "    p1Vect = log(p1Num/p1Denom)          #change to log()\n",
    "    p0Vect = log(p0Num/p0Denom)          #change to log()\n",
    "    return p0Vect,p1Vect,pAbusive"
   ]
  },
  {
   "cell_type": "code",
   "execution_count": 5,
   "metadata": {},
   "outputs": [],
   "source": [
    "listOPosts, listClasses = loadDataSet()\n",
    "myVocabList = createVocabList(listOPosts)\n",
    "trainMat = []\n",
    "for postinDoc in listOPosts:\n",
    "    trainMat.append(setOfWords2Vec(myVocabList, postinDoc))\n",
    "p0V, p1V, pAb = trainNB0(trainMat, listClasses)"
   ]
  },
  {
   "cell_type": "code",
   "execution_count": 6,
   "metadata": {},
   "outputs": [
    {
     "name": "stdout",
     "output_type": "stream",
     "text": [
      "0.5\n"
     ]
    }
   ],
   "source": [
    "print(pAb) # 任意文档是侮辱性文档的概率"
   ]
  },
  {
   "cell_type": "code",
   "execution_count": 7,
   "metadata": {},
   "outputs": [],
   "source": [
    "# 构建完整的分类器\n",
    "\n",
    "def classifyNB(vec2Classify, p0Vec, p1Vec, pClass1):\n",
    "    p1 = sum(vec2Classify * p1Vec) + log(pClass1)    #element-wise mult\n",
    "    p0 = sum(vec2Classify * p0Vec) + log(1.0 - pClass1)\n",
    "    if p1 > p0:\n",
    "        return 1\n",
    "    else: \n",
    "        return 0\n",
    "\n",
    "def testingNB():\n",
    "    listOPosts,listClasses = loadDataSet()\n",
    "    myVocabList = createVocabList(listOPosts)\n",
    "    trainMat=[]\n",
    "    for postinDoc in listOPosts:\n",
    "        trainMat.append(setOfWords2Vec(myVocabList, postinDoc))\n",
    "    p0V,p1V,pAb = trainNB0(array(trainMat),array(listClasses))\n",
    "    testEntry = ['love', 'my', 'dalmation']\n",
    "    thisDoc = array(setOfWords2Vec(myVocabList, testEntry))\n",
    "    print(testEntry,'classified as: ',classifyNB(thisDoc,p0V,p1V,pAb))\n",
    "    testEntry = ['stupid', 'garbage']\n",
    "    thisDoc = array(setOfWords2Vec(myVocabList, testEntry))\n",
    "    print(testEntry,'classified as: ',classifyNB(thisDoc,p0V,p1V,pAb))"
   ]
  },
  {
   "cell_type": "code",
   "execution_count": 8,
   "metadata": {},
   "outputs": [
    {
     "name": "stdout",
     "output_type": "stream",
     "text": [
      "['love', 'my', 'dalmation'] classified as:  0\n",
      "['stupid', 'garbage'] classified as:  1\n"
     ]
    }
   ],
   "source": [
    "testingNB()"
   ]
  },
  {
   "cell_type": "code",
   "execution_count": 9,
   "metadata": {},
   "outputs": [],
   "source": [
    "# 朴素贝叶斯词袋模型\n",
    "\n",
    "def bagOfWords2VecMN(vocabList, inputSet):\n",
    "    returnVec = [0]*len(vocabList)\n",
    "    for word in inputSet:\n",
    "        if word in vocabList:\n",
    "            returnVec[vocabList.index(word)] += 1\n",
    "    return returnVec"
   ]
  },
  {
   "cell_type": "markdown",
   "metadata": {},
   "source": [
    "### 3 示例：使用朴素贝叶斯过滤垃圾邮件\n",
    "\n",
    "1. 收集数据：提供文本文件。\n",
    "2. 准备数据：将文本文件解析成词条向量。\n",
    "3. 分析数据：检查词条确保解析的正确性。\n",
    "4. 训练算法：使用我们之前建立的trainNB0()函数。\n",
    "5. 测试算法：使用classifyNB()，并且构建一个新的测试函数来计算文档集的错误率。\n",
    "6. 使用算法：构建一个完整的程序对一组文档进行分类，将错分的文档输出到屏幕上。"
   ]
  },
  {
   "cell_type": "code",
   "execution_count": 10,
   "metadata": {},
   "outputs": [],
   "source": [
    "def textParse(bigString):    #input is big string, #output is word list\n",
    "    import re\n",
    "    listOfTokens = re.split(r'\\W*', bigString)\n",
    "    return [tok.lower() for tok in listOfTokens if len(tok) > 2] \n",
    "    \n",
    "def spamTest():\n",
    "    docList=[]; classList = []; fullText =[]\n",
    "    \n",
    "    # 导入并解析文本文件\n",
    "    for i in range(1,26):\n",
    "        wordList = textParse(open('../data/email/spam/%d.txt' % i, encoding='gbk').read())\n",
    "        docList.append(wordList)\n",
    "        fullText.extend(wordList)\n",
    "        classList.append(1)\n",
    "        wordList = textParse(open('../data/email/ham/%d.txt' % i, encoding='gbk').read())\n",
    "        docList.append(wordList)\n",
    "        fullText.extend(wordList)\n",
    "        classList.append(0)\n",
    "    vocabList = createVocabList(docList)          #create vocabulary\n",
    "    trainingSet = list(range(50)); testSet=[]           #create test set\n",
    "    \n",
    "    # 随机构建训练集\n",
    "    for i in range(10):\n",
    "        randIndex = int(random.uniform(0,len(trainingSet)))\n",
    "        testSet.append(trainingSet[randIndex])\n",
    "        del(trainingSet[randIndex])\n",
    "    trainMat=[]; trainClasses = []\n",
    "    for docIndex in trainingSet:#train the classifier (get probs) trainNB0\n",
    "        trainMat.append(bagOfWords2VecMN(vocabList, docList[docIndex]))\n",
    "        trainClasses.append(classList[docIndex])\n",
    "    p0V,p1V,pSpam = trainNB0(array(trainMat),array(trainClasses))\n",
    "    errorCount = 0\n",
    "    for docIndex in testSet:        #classify the remaining items\n",
    "        wordVector = bagOfWords2VecMN(vocabList, docList[docIndex])\n",
    "        if classifyNB(array(wordVector),p0V,p1V,pSpam) != classList[docIndex]:\n",
    "            errorCount += 1\n",
    "#             print(\"classification error\",docList[docIndex])\n",
    "    errorRate = float(errorCount)/len(testSet)\n",
    "    print('the error rate is: ', errorRate)\n",
    "    return errorRate\n",
    "    #return vocabList,fullText"
   ]
  },
  {
   "cell_type": "code",
   "execution_count": 13,
   "metadata": {},
   "outputs": [
    {
     "name": "stderr",
     "output_type": "stream",
     "text": [
      "/anaconda3/lib/python3.6/re.py:212: FutureWarning: split() requires a non-empty pattern match.\n",
      "  return _compile(pattern, flags).split(string, maxsplit)\n"
     ]
    },
    {
     "name": "stdout",
     "output_type": "stream",
     "text": [
      "the error rate is:  0.2\n",
      "the error rate is:  0.0\n",
      "the error rate is:  0.0\n",
      "the error rate is:  0.0\n",
      "the error rate is:  0.0\n",
      "the error rate is:  0.0\n",
      "the error rate is:  0.0\n",
      "the error rate is:  0.0\n",
      "the error rate is:  0.1\n",
      "the error rate is:  0.0\n",
      "avg error rate:  0.03\n"
     ]
    }
   ],
   "source": [
    "errorRate = 0\n",
    "for i in range(10):\n",
    "    errorRate += spamTest() / float(10)\n",
    "print('avg error rate: ', errorRate)"
   ]
  },
  {
   "cell_type": "markdown",
   "metadata": {},
   "source": []
  }
 ],
 "metadata": {
  "kernelspec": {
   "display_name": "Python 3",
   "language": "python",
   "name": "python3"
  },
  "language_info": {
   "codemirror_mode": {
    "name": "ipython",
    "version": 3
   },
   "file_extension": ".py",
   "mimetype": "text/x-python",
   "name": "python",
   "nbconvert_exporter": "python",
   "pygments_lexer": "ipython3",
   "version": "3.6.5"
  }
 },
 "nbformat": 4,
 "nbformat_minor": 2
}
