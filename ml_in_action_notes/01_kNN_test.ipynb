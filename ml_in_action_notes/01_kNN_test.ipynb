{
 "cells": [
  {
   "cell_type": "markdown",
   "metadata": {},
   "source": [
    "# 第一个机器学习算法：k-近邻（k-Nearest Neighbor，KNN）算法\n",
    "\n",
    "### 1 概述\n",
    "\n",
    "k-近邻算法采用测量不同特征值之间的距离方法进行分类。\n",
    "* 优点：精度高 对异常值不敏感 无数据输入假定\n",
    "* 缺点：计算复杂度高 空间复杂度高\n",
    "* 适用数据范围：数值型 标称型\n",
    "\n",
    "该方法的思路是：如果一个样本在特征空间中的k个最相似（即特征空间中最邻近）的样本中的大多数属于某一个类别，则该样本也属于这个类别。\n",
    "\n",
    "### 2 先从简单的入手\n",
    "\n",
    "来看k-近邻算法一个最简单的版本：只考虑一个最近邻，此时只需要找一个离预测数据点最近的训练数据点。测试数据集如下："
   ]
  },
  {
   "cell_type": "code",
   "execution_count": 1,
   "metadata": {},
   "outputs": [],
   "source": [
    "# 引入包\n",
    "import sys\n",
    "sys.path.append('../lib')\n",
    "import mglearn\n",
    "import matplotlib.pyplot as plt\n",
    "import numpy as np\n",
    "from sklearn.datasets import load_boston\n",
    "\n",
    "# 引入数据\n",
    "boston = load_boston()\n",
    "X, y = mglearn.datasets.load_extended_boston()\n",
    "mglearn.plots.plot_knn_classification(n_neighbors=1)"
   ]
  },
  {
   "cell_type": "markdown",
   "metadata": {},
   "source": [
    "> 如图所示，五角星表示的预测点分别找到了离它们最近的测试数据点，所以归为对应数据点的分类"
   ]
  },
  {
   "cell_type": "markdown",
   "metadata": {},
   "source": [
    "下面来看k = 3时的情况："
   ]
  },
  {
   "cell_type": "code",
   "execution_count": 2,
   "metadata": {},
   "outputs": [
    {
     "data": {
      "image/png": "[encoded data removed]",
      "text/plain": [
       "<Figure size 432x288 with 1 Axes>"
      ]
     },
     "metadata": {},
     "output_type": "display_data"
    }
   ],
   "source": [
    "mglearn.plots.plot_knn_classification(n_neighbors=3)"
   ]
  },
  {
   "cell_type": "markdown",
   "metadata": {},
   "source": [
    " > 此时，预测数据点的分类由三个最近邻居中占多数点的分类决定"
   ]
  },
  {
   "cell_type": "markdown",
   "metadata": {},
   "source": [
    "### 3 手写一个k-近邻算法\n",
    "\n",
    "一般来说，k-近邻算法的流程如下：\n",
    "1. 收集数据：可以使用任何方法\n",
    "2. 准备数据：距离计算所需要的数值\n",
    "3. 分析数据：可以使用任何方法\n",
    "4. 训练算法：不需要\n",
    "5. 测试算法：计算错误率\n",
    "6. 使用算法：首先输入样本数据和结构化的输出结果，然后运行k-近邻算法判定输入数据分别属于哪个分类，最后应用对计算出的分类执行后续处理"
   ]
  },
  {
   "cell_type": "code",
   "execution_count": 3,
   "metadata": {},
   "outputs": [],
   "source": [
    "import numpy as np\n",
    "import matplotlib.pyplot as plt\n",
    "import operator\n",
    "\n",
    "# 创建数据集函数，已经标记了坐标位置与已知标签（已知条件）\n",
    "def create_data_set():\n",
    "    group = np.array([[0.7, 1.1],\n",
    "                      [1.0, 1.0],\n",
    "                      [0.0, 0.0],\n",
    "                      [0.0, 0.1]])\n",
    "    labels = ['A', 'A', 'B', 'B']\n",
    "    return group, labels"
   ]
  },
  {
   "cell_type": "markdown",
   "metadata": {},
   "source": [
    "下面分析一下应该对预测点做什么：\n",
    "1. 计算已知点集中每个点与当前点之间点距离并排序\n",
    "2. 选取距离最小的k个点\n",
    "3. 确定前k个点所在类别的出现频率\n",
    "4. 返回最高频率类别作为预测点的类别\n",
    "\n",
    "根据以上分析，有下面的函数："
   ]
  },
  {
   "cell_type": "code",
   "execution_count": 4,
   "metadata": {},
   "outputs": [],
   "source": [
    "'''\n",
    "@param X n*2维矩阵，预测点集\n",
    "@param data n*2维矩阵，输入点训练样本集\n",
    "@param labels n维列向量，标签集合\n",
    "@param k 近邻个数\n",
    "'''\n",
    "def classify0(X, data, labels, k):\n",
    "    \n",
    "    # 用欧式距离公式计算距离\n",
    "    dataset_size = data.shape[0]\n",
    "    diff_mat = np.tile(X, (dataset_size, 1)) - data\n",
    "    sq_diff_mat = diff_mat ** 2\n",
    "    sq_distances = sq_diff_mat.sum(axis=1)\n",
    "    distances = sq_distances ** 0.5\n",
    "    sorted_dist_indicies = distances.argsort()\n",
    "    \n",
    "    # 选择距离最小的k个点\n",
    "    class_count = {}\n",
    "    for i in range(k):\n",
    "        vote_label = labels[sorted_dist_indicies[i]]\n",
    "        class_count[vote_label] = class_count.get(vote_label, 0) + 1\n",
    "    \n",
    "    # 对结果进行排序\n",
    "    sorted_class_count = sorted(class_count.items(), key=operator.itemgetter(1), reverse=True)\n",
    "    return sorted_class_count[0][0]"
   ]
  },
  {
   "cell_type": "code",
   "execution_count": 5,
   "metadata": {},
   "outputs": [
    {
     "data": {
      "text/plain": [
       "'A'"
      ]
     },
     "execution_count": 5,
     "metadata": {},
     "output_type": "execute_result"
    }
   ],
   "source": [
    "group, labels = create_data_set()\n",
    "classify0([0.5, 0.7], group, labels, 3)"
   ]
  },
  {
   "cell_type": "code",
   "execution_count": 6,
   "metadata": {},
   "outputs": [
    {
     "data": {
      "text/plain": [
       "'B'"
      ]
     },
     "execution_count": 6,
     "metadata": {},
     "output_type": "execute_result"
    }
   ],
   "source": [
    "classify0([0.5, 0.4], group, labels, 3)"
   ]
  },
  {
   "cell_type": "markdown",
   "metadata": {},
   "source": [
    "下面我们多预测几个点，并把结果纳入训练集："
   ]
  },
  {
   "cell_type": "code",
   "execution_count": 7,
   "metadata": {},
   "outputs": [],
   "source": [
    "def classify1(X_pred, data, labels, k):\n",
    "    data_temp = data\n",
    "    labels_temp = labels\n",
    "    \n",
    "    # 更新数据集\n",
    "    for i in range(len(X_pred)):\n",
    "        new_label = classify0(X_pred[i], data_temp, labels, k)        \n",
    "        data_temp = np.concatenate((data_temp, [X_pred[i]]), axis=0)\n",
    "        labels_temp.append(new_label)\n",
    "        print(labels_temp)\n",
    "        \n",
    "    # 训练集可视化\n",
    "    for i in range(len(labels_temp)):\n",
    "        if labels_temp[i] == 'A':\n",
    "            plt.plot(data_temp[i, 0], data_temp[i, 1], 'ob')\n",
    "        else:\n",
    "            plt.plot(data_temp[i, 0], data_temp[i, 1], 'xr')\n",
    "    plt.show()"
   ]
  },
  {
   "cell_type": "code",
   "execution_count": 8,
   "metadata": {},
   "outputs": [
    {
     "name": "stdout",
     "output_type": "stream",
     "text": [
      "['A', 'A', 'B', 'B', 'B']\n",
      "['A', 'A', 'B', 'B', 'B', 'A']\n",
      "['A', 'A', 'B', 'B', 'B', 'A', 'B']\n",
      "['A', 'A', 'B', 'B', 'B', 'A', 'B', 'A']\n",
      "['A', 'A', 'B', 'B', 'B', 'A', 'B', 'A', 'B']\n",
      "['A', 'A', 'B', 'B', 'B', 'A', 'B', 'A', 'B', 'A']\n",
      "['A', 'A', 'B', 'B', 'B', 'A', 'B', 'A', 'B', 'A', 'A']\n",
      "['A', 'A', 'B', 'B', 'B', 'A', 'B', 'A', 'B', 'A', 'A', 'B']\n",
      "['A', 'A', 'B', 'B', 'B', 'A', 'B', 'A', 'B', 'A', 'A', 'B', 'A']\n",
      "['A', 'A', 'B', 'B', 'B', 'A', 'B', 'A', 'B', 'A', 'A', 'B', 'A', 'B']\n"
     ]
    },
    {
     "data": {
      "image/png": "[encoded data removed]",
      "text/plain": [
       "<Figure size 432x288 with 1 Axes>"
      ]
     },
     "metadata": {},
     "output_type": "display_data"
    }
   ],
   "source": [
    "pred = np.array([\n",
    "    [0.4, 0.45],\n",
    "    [0.325, 0.88],\n",
    "    [0.57, 0.23],\n",
    "    [0.188, 0.982],\n",
    "    [0.235, 0.196],\n",
    "    [1.23, 0.989],\n",
    "    [0.59, 0.849],\n",
    "    [0.12, 0.23],\n",
    "    [0.87, 0.98],\n",
    "    [0.98, 0.5]\n",
    "])\n",
    "group, labels = create_data_set()\n",
    "classify1(pred, group, labels, 2)"
   ]
  },
  {
   "cell_type": "markdown",
   "metadata": {},
   "source": [
    "### 4 算法评价\n",
    "\n",
    "* 一般来说，KNeighbors 分类器有2个重要参数：邻居个数与数据点之间距离的度量方法。在实践中，使用较小的邻居个数（比如3个或5个）往往可以得到比较好的结果，但你应该调节这个参数。默认使用欧式距离，它在许多情况下的效果都很好。\n",
    "\n",
    "* k-NN的优点之一就是模型很容易理解，通常不需要过多调节就可以得到不错的性能。在考虑使用更高级的技术之前，尝试此算法是一种很好的基准方法。\n",
    "\n",
    "* 构建最近邻模型的速度通常很快，但如果训练集很大（特征数很多或者样本数很大），预测速度可能会比较慢。\n",
    "\n",
    "* 使用k-NN 算法时，对数据进行预处理是很重要的。这一算法对于有很多特征（几百或更多）的数据集往往效果不好，对于大多数特征的大多数取值都为0的数据集（所谓的稀疏数据集）来说，这一算法的效果尤其不好。\n",
    "\n",
    "* 虽然k近邻算法很容易理解，但由于预测速度慢且不能处理具有很多特征的数据集，所以在实践中往往不会用到。"
   ]
  },
  {
   "cell_type": "code",
   "execution_count": null,
   "metadata": {},
   "outputs": [],
   "source": []
  }
 ],
 "metadata": {
  "kernelspec": {
   "display_name": "Python 3",
   "language": "python",
   "name": "python3"
  },
  "language_info": {
   "codemirror_mode": {
    "name": "ipython",
    "version": 3
   },
   "file_extension": ".py",
   "mimetype": "text/x-python",
   "name": "python",
   "nbconvert_exporter": "python",
   "pygments_lexer": "ipython3",
   "version": "3.6.5"
  }
 },
 "nbformat": 4,
 "nbformat_minor": 2
}
